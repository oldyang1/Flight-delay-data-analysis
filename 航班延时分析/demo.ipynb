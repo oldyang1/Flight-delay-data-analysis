{
 "cells": [
  {
   "cell_type": "code",
   "execution_count": 1,
   "metadata": {},
   "outputs": [],
   "source": [
    "# 倒入模块\n",
    "import numpy as np\n",
    "import pandas as pd\n",
    "import matplotlib.pyplot as plt"
   ]
  },
  {
   "cell_type": "code",
   "execution_count": 2,
   "metadata": {
    "pycharm": {
     "name": "#%%\n"
    }
   },
   "outputs": [],
   "source": [
    "# 解决中文乱码问题\n",
    "plt.rcParams['font.sans-serif'] = ['KaiTi']  # 指定默认字体\n",
    "plt.rcParams['axes.unicode_minus'] = False  # 解决保存图片‘-’显示为方块问题"
   ]
  },
  {
   "cell_type": "markdown",
   "metadata": {
    "pycharm": {
     "name": "#%% md\n"
    }
   },
   "source": [
    "加载数据"
   ]
  },
  {
   "cell_type": "code",
   "execution_count": 3,
   "metadata": {
    "pycharm": {
     "name": "#%%\n"
    }
   },
   "outputs": [
    {
     "data": {
      "text/plain": [
       "(502617, 17)"
      ]
     },
     "execution_count": 3,
     "metadata": {},
     "output_type": "execute_result"
    }
   ],
   "source": [
    "data = pd.read_csv('airport-ontime.csv')\n",
    "data.shape"
   ]
  },
  {
   "cell_type": "code",
   "execution_count": 5,
   "metadata": {
    "pycharm": {
     "name": "#%%\n"
    }
   },
   "outputs": [
    {
     "name": "stdout",
     "output_type": "stream",
     "text": [
      "<class 'pandas.core.frame.DataFrame'>\n",
      "RangeIndex: 502617 entries, 0 to 502616\n",
      "Data columns (total 17 columns):\n",
      " #   Column                 Non-Null Count   Dtype  \n",
      "---  ------                 --------------   -----  \n",
      " 0   FL_DATE                502617 non-null  object \n",
      " 1   UNIQUE_CARRIER         502617 non-null  object \n",
      " 2   ORIGIN_AIRPORT_ID      502617 non-null  int64  \n",
      " 3   ORIGIN_AIRPORT_SEQ_ID  502617 non-null  int64  \n",
      " 4   ORIGIN_CITY_MARKET_ID  502617 non-null  int64  \n",
      " 5   ORIGIN_STATE_ABR       502617 non-null  object \n",
      " 6   DEST_AIRPORT_ID        502617 non-null  int64  \n",
      " 7   DEST_AIRPORT_SEQ_ID    502617 non-null  int64  \n",
      " 8   DEST_CITY_MARKET_ID    502617 non-null  int64  \n",
      " 9   DEST_STATE_ABR         502617 non-null  object \n",
      " 10  DEP_DELAY_NEW          492974 non-null  float64\n",
      " 11  DEP_DEL15              492974 non-null  float64\n",
      " 12  ARR_DELAY_NEW          490716 non-null  float64\n",
      " 13  ARR_DEL15              490716 non-null  float64\n",
      " 14  DISTANCE               502617 non-null  float64\n",
      " 15  DISTANCE_GROUP         502617 non-null  int64  \n",
      " 16  Unnamed: 16            0 non-null       float64\n",
      "dtypes: float64(6), int64(7), object(4)\n",
      "memory usage: 65.2+ MB\n"
     ]
    }
   ],
   "source": [
    "data.info()"
   ]
  },
  {
   "cell_type": "code",
   "execution_count": 4,
   "metadata": {
    "pycharm": {
     "name": "#%%\n"
    }
   },
   "outputs": [],
   "source": [
    "# 处理缺值  删除unnamed列\n",
    "# data.isnull().sum()\n",
    "data.dropna(axis=1, how='all', inplace=True)"
   ]
  },
  {
   "cell_type": "code",
   "execution_count": 10,
   "metadata": {
    "pycharm": {
     "name": "#%%\n"
    }
   },
   "outputs": [
    {
     "data": {
      "text/plain": [
       "FL_DATE                      0\n",
       "UNIQUE_CARRIER               0\n",
       "ORIGIN_AIRPORT_ID            0\n",
       "ORIGIN_AIRPORT_SEQ_ID        0\n",
       "ORIGIN_CITY_MARKET_ID        0\n",
       "ORIGIN_STATE_ABR             0\n",
       "DEST_AIRPORT_ID              0\n",
       "DEST_AIRPORT_SEQ_ID          0\n",
       "DEST_CITY_MARKET_ID          0\n",
       "DEST_STATE_ABR               0\n",
       "DEP_DELAY_NEW             9643\n",
       "DEP_DEL15                 9643\n",
       "ARR_DELAY_NEW            11901\n",
       "ARR_DEL15                11901\n",
       "DISTANCE                     0\n",
       "DISTANCE_GROUP               0\n",
       "dtype: int64"
      ]
     },
     "execution_count": 10,
     "metadata": {},
     "output_type": "execute_result"
    }
   ],
   "source": [
    "# data.info()\n",
    "data.isnull().sum()"
   ]
  },
  {
   "cell_type": "code",
   "execution_count": 12,
   "metadata": {
    "pycharm": {
     "name": "#%%\n"
    }
   },
   "outputs": [
    {
     "data": {
      "text/plain": [
       "True"
      ]
     },
     "execution_count": 12,
     "metadata": {},
     "output_type": "execute_result"
    }
   ],
   "source": [
    "# 查看是否有重复值\n",
    "data.duplicated().any()  # 返回True说明有重复值"
   ]
  },
  {
   "cell_type": "code",
   "execution_count": 13,
   "metadata": {
    "pycharm": {
     "name": "#%%\n"
    }
   },
   "outputs": [],
   "source": [
    "# 删除重复值\n",
    "data.drop_duplicates(inplace=True)"
   ]
  },
  {
   "cell_type": "code",
   "execution_count": 14,
   "metadata": {
    "pycharm": {
     "name": "#%%\n"
    }
   },
   "outputs": [
    {
     "data": {
      "text/plain": [
       "False"
      ]
     },
     "execution_count": 14,
     "metadata": {},
     "output_type": "execute_result"
    }
   ],
   "source": [
    "# 再次查看是否有重复值\n",
    "data.duplicated().any()"
   ]
  },
  {
   "cell_type": "markdown",
   "metadata": {
    "pycharm": {
     "name": "#%% md\n"
    }
   },
   "source": [
    "起飞到达是否延迟"
   ]
  },
  {
   "cell_type": "code",
   "execution_count": 15,
   "metadata": {
    "pycharm": {
     "name": "#%%\n"
    }
   },
   "outputs": [
    {
     "data": {
      "text/plain": [
       "0         0.0\n",
       "1         0.0\n",
       "3         1.0\n",
       "4         0.0\n",
       "5         0.0\n",
       "         ... \n",
       "502612    1.0\n",
       "502613    0.0\n",
       "502614    0.0\n",
       "502615    0.0\n",
       "502616    0.0\n",
       "Name: DEP_DEL15, Length: 394113, dtype: float64"
      ]
     },
     "execution_count": 15,
     "metadata": {},
     "output_type": "execute_result"
    }
   ],
   "source": [
    "# 起飞是否延迟\n",
    "data['DEP_DEL15']"
   ]
  },
  {
   "cell_type": "code",
   "execution_count": 16,
   "metadata": {
    "pycharm": {
     "name": "#%%\n"
    }
   },
   "outputs": [],
   "source": [
    "# 是否延迟数量\n",
    "result = data['DEP_DEL15'].dropna()"
   ]
  },
  {
   "cell_type": "code",
   "execution_count": 17,
   "metadata": {
    "pycharm": {
     "name": "#%%\n"
    }
   },
   "outputs": [
    {
     "data": {
      "text/plain": [
       "0.0    260977\n",
       "1.0    125081\n",
       "Name: DEP_DEL15, dtype: int64"
      ]
     },
     "execution_count": 17,
     "metadata": {},
     "output_type": "execute_result"
    }
   ],
   "source": [
    "result.value_counts()"
   ]
  },
  {
   "cell_type": "code",
   "execution_count": 21,
   "metadata": {
    "pycharm": {
     "name": "#%%\n"
    }
   },
   "outputs": [
    {
     "data": {
      "text/plain": [
       "<AxesSubplot:>"
      ]
     },
     "execution_count": 21,
     "metadata": {},
     "output_type": "execute_result"
    },
    {
     "data": {
      "image/png": "[encoded data removed]",
      "text/plain": [
       "<Figure size 576x432 with 1 Axes>"
      ]
     },
     "metadata": {},
     "output_type": "display_data"
    }
   ],
   "source": [
    "# 绘制饼图显示\n",
    "dep_count = result.value_counts()\n",
    "dep_count.name=''\n",
    "dep_count.plot(kind='pie', labels=['起飞不延迟', '起飞延迟'],autopct='%.2f', fontsize=20, figsize=(8, 6))"
   ]
  },
  {
   "cell_type": "code",
   "execution_count": 23,
   "metadata": {
    "pycharm": {
     "name": "#%%\n"
    }
   },
   "outputs": [],
   "source": [
    "# 到达延迟和不延迟\n",
    "arr_count = data['ARR_DEL15'].dropna().value_counts()"
   ]
  },
  {
   "cell_type": "code",
   "execution_count": 24,
   "metadata": {
    "pycharm": {
     "name": "#%%\n"
    }
   },
   "outputs": [
    {
     "data": {
      "text/plain": [
       "<AxesSubplot:ylabel='ARR_DEL15'>"
      ]
     },
     "execution_count": 24,
     "metadata": {},
     "output_type": "execute_result"
    },
    {
     "data": {
      "image/png": "[encoded data removed]",
      "text/plain": [
       "<Figure size 576x432 with 1 Axes>"
      ]
     },
     "metadata": {},
     "output_type": "display_data"
    }
   ],
   "source": [
    "arr_count.plot(kind='pie', labels=['到达不延迟', '到达延迟'],autopct='%.2f', fontsize=20, figsize=(8, 6))"
   ]
  },
  {
   "cell_type": "markdown",
   "metadata": {
    "pycharm": {
     "name": "#%% md\n"
    }
   },
   "source": [
    "机场起飞延迟分析"
   ]
  },
  {
   "cell_type": "code",
   "execution_count": 27,
   "metadata": {
    "pycharm": {
     "name": "#%%\n"
    }
   },
   "outputs": [
    {
     "name": "stdout",
     "output_type": "stream",
     "text": [
      "<class 'pandas.core.frame.DataFrame'>\n",
      "Int64Index: 394113 entries, 0 to 502616\n",
      "Data columns (total 16 columns):\n",
      " #   Column                 Non-Null Count   Dtype  \n",
      "---  ------                 --------------   -----  \n",
      " 0   FL_DATE                394113 non-null  object \n",
      " 1   UNIQUE_CARRIER         394113 non-null  object \n",
      " 2   ORIGIN_AIRPORT_ID      394113 non-null  int64  \n",
      " 3   ORIGIN_AIRPORT_SEQ_ID  394113 non-null  int64  \n",
      " 4   ORIGIN_CITY_MARKET_ID  394113 non-null  int64  \n",
      " 5   ORIGIN_STATE_ABR       394113 non-null  object \n",
      " 6   DEST_AIRPORT_ID        394113 non-null  int64  \n",
      " 7   DEST_AIRPORT_SEQ_ID    394113 non-null  int64  \n",
      " 8   DEST_CITY_MARKET_ID    394113 non-null  int64  \n",
      " 9   DEST_STATE_ABR         394113 non-null  object \n",
      " 10  DEP_DELAY_NEW          386058 non-null  float64\n",
      " 11  DEP_DEL15              386058 non-null  float64\n",
      " 12  ARR_DELAY_NEW          383812 non-null  float64\n",
      " 13  ARR_DEL15              383812 non-null  float64\n",
      " 14  DISTANCE               394113 non-null  float64\n",
      " 15  DISTANCE_GROUP         394113 non-null  int64  \n",
      "dtypes: float64(5), int64(7), object(4)\n",
      "memory usage: 51.1+ MB\n"
     ]
    }
   ],
   "source": [
    "data.info()\n",
    "# 缺值处理\n",
    "orgin_data = data[['ORIGIN_STATE_ABR', 'DEP_DEL15']].dropna()"
   ]
  },
  {
   "cell_type": "code",
   "execution_count": 29,
   "metadata": {
    "pycharm": {
     "name": "#%%\n"
    }
   },
   "outputs": [],
   "source": [
    "# 按照ORIGIN_STATE_ABR分组，统计延迟数\n",
    "origin_delay_count = orgin_data.groupby('ORIGIN_STATE_ABR')['DEP_DEL15'].sum()"
   ]
  },
  {
   "cell_type": "code",
   "execution_count": 30,
   "metadata": {
    "pycharm": {
     "name": "#%%\n"
    }
   },
   "outputs": [
    {
     "data": {
      "text/plain": [
       "<AxesSubplot:xlabel='ORIGIN_STATE_ABR'>"
      ]
     },
     "execution_count": 30,
     "metadata": {},
     "output_type": "execute_result"
    },
    {
     "data": {
      "image/png": "[encoded data removed]",
      "text/plain": [
       "<Figure size 864x576 with 1 Axes>"
      ]
     },
     "metadata": {
      "needs_background": "light"
     },
     "output_type": "display_data"
    }
   ],
   "source": [
    "# 绘制条形图\n",
    "origin_delay_count.sort_values(ascending=False).plot(kind='bar',figsize=(12, 8))"
   ]
  },
  {
   "cell_type": "code",
   "execution_count": 32,
   "metadata": {
    "pycharm": {
     "name": "#%%\n"
    }
   },
   "outputs": [],
   "source": [
    "# 绘制到达机场延迟数\n",
    "dest_data = data[['DEST_STATE_ABR', 'ARR_DEL15']].dropna()"
   ]
  },
  {
   "cell_type": "code",
   "execution_count": 34,
   "metadata": {
    "pycharm": {
     "name": "#%%\n"
    }
   },
   "outputs": [
    {
     "data": {
      "text/plain": [
       "DEST_STATE_ABR\n",
       "AK      717.0\n",
       "AL      803.0\n",
       "AR      866.0\n",
       "AZ     3571.0\n",
       "CA    17677.0\n",
       "CO     5357.0\n",
       "CT      526.0\n",
       "DE       30.0\n",
       "FL     7533.0\n",
       "GA     6560.0\n",
       "HI      734.0\n",
       "IA      595.0\n",
       "ID      328.0\n",
       "IL    11520.0\n",
       "IN      981.0\n",
       "KS      383.0\n",
       "KY     1049.0\n",
       "LA     1602.0\n",
       "MA     2300.0\n",
       "MD     1923.0\n",
       "ME      192.0\n",
       "MI     2300.0\n",
       "MN     2433.0\n",
       "MO     2721.0\n",
       "MS      317.0\n",
       "MT      270.0\n",
       "NC     2957.0\n",
       "ND      389.0\n",
       "NE      670.0\n",
       "NH      189.0\n",
       "NJ     3076.0\n",
       "NM      845.0\n",
       "NV     3561.0\n",
       "NY     6266.0\n",
       "OH     2035.0\n",
       "OK     1100.0\n",
       "OR     1406.0\n",
       "PA     2403.0\n",
       "PR      568.0\n",
       "RI      301.0\n",
       "SC      731.0\n",
       "SD      360.0\n",
       "TN     2084.0\n",
       "TT       13.0\n",
       "TX    17832.0\n",
       "UT     1411.0\n",
       "VA     3661.0\n",
       "VI       73.0\n",
       "VT      153.0\n",
       "WA     2407.0\n",
       "WI     1546.0\n",
       "WV       99.0\n",
       "WY      188.0\n",
       "Name: ARR_DEL15, dtype: float64"
      ]
     },
     "execution_count": 34,
     "metadata": {},
     "output_type": "execute_result"
    }
   ],
   "source": [
    "arr_delay_count = dest_data.groupby('DEST_STATE_ABR')['ARR_DEL15'].sum()\n",
    "arr_delay_count"
   ]
  },
  {
   "cell_type": "code",
   "execution_count": 35,
   "metadata": {
    "pycharm": {
     "name": "#%%\n"
    }
   },
   "outputs": [
    {
     "data": {
      "text/plain": [
       "<AxesSubplot:xlabel='DEST_STATE_ABR'>"
      ]
     },
     "execution_count": 35,
     "metadata": {},
     "output_type": "execute_result"
    },
    {
     "data": {
      "image/png": "[encoded data removed]",
      "text/plain": [
       "<Figure size 864x576 with 1 Axes>"
      ]
     },
     "metadata": {
      "needs_background": "light"
     },
     "output_type": "display_data"
    }
   ],
   "source": [
    "# 绘制条形图\n",
    "arr_delay_count.sort_values(ascending=False).plot(kind='bar', figsize=(12, 8))"
   ]
  },
  {
   "cell_type": "code",
   "execution_count": 37,
   "metadata": {
    "pycharm": {
     "name": "#%%\n"
    }
   },
   "outputs": [
    {
     "data": {
      "text/html": [
       "<div>\n",
       "<style scoped>\n",
       "    .dataframe tbody tr th:only-of-type {\n",
       "        vertical-align: middle;\n",
       "    }\n",
       "\n",
       "    .dataframe tbody tr th {\n",
       "        vertical-align: top;\n",
       "    }\n",
       "\n",
       "    .dataframe thead th {\n",
       "        text-align: right;\n",
       "    }\n",
       "</style>\n",
       "<table border=\"1\" class=\"dataframe\">\n",
       "  <thead>\n",
       "    <tr style=\"text-align: right;\">\n",
       "      <th></th>\n",
       "      <th>DEP_DEL15</th>\n",
       "      <th>ARR_DEL15</th>\n",
       "    </tr>\n",
       "  </thead>\n",
       "  <tbody>\n",
       "    <tr>\n",
       "      <th>AK</th>\n",
       "      <td>524.0</td>\n",
       "      <td>717.0</td>\n",
       "    </tr>\n",
       "    <tr>\n",
       "      <th>AL</th>\n",
       "      <td>641.0</td>\n",
       "      <td>803.0</td>\n",
       "    </tr>\n",
       "    <tr>\n",
       "      <th>AR</th>\n",
       "      <td>789.0</td>\n",
       "      <td>866.0</td>\n",
       "    </tr>\n",
       "    <tr>\n",
       "      <th>AZ</th>\n",
       "      <td>3937.0</td>\n",
       "      <td>3571.0</td>\n",
       "    </tr>\n",
       "    <tr>\n",
       "      <th>CA</th>\n",
       "      <td>15955.0</td>\n",
       "      <td>17677.0</td>\n",
       "    </tr>\n",
       "    <tr>\n",
       "      <th>CO</th>\n",
       "      <td>6041.0</td>\n",
       "      <td>5357.0</td>\n",
       "    </tr>\n",
       "    <tr>\n",
       "      <th>CT</th>\n",
       "      <td>293.0</td>\n",
       "      <td>526.0</td>\n",
       "    </tr>\n",
       "    <tr>\n",
       "      <th>DE</th>\n",
       "      <td>19.0</td>\n",
       "      <td>30.0</td>\n",
       "    </tr>\n",
       "    <tr>\n",
       "      <th>FL</th>\n",
       "      <td>7861.0</td>\n",
       "      <td>7533.0</td>\n",
       "    </tr>\n",
       "    <tr>\n",
       "      <th>GA</th>\n",
       "      <td>7795.0</td>\n",
       "      <td>6560.0</td>\n",
       "    </tr>\n",
       "    <tr>\n",
       "      <th>HI</th>\n",
       "      <td>496.0</td>\n",
       "      <td>734.0</td>\n",
       "    </tr>\n",
       "    <tr>\n",
       "      <th>IA</th>\n",
       "      <td>418.0</td>\n",
       "      <td>595.0</td>\n",
       "    </tr>\n",
       "    <tr>\n",
       "      <th>ID</th>\n",
       "      <td>218.0</td>\n",
       "      <td>328.0</td>\n",
       "    </tr>\n",
       "    <tr>\n",
       "      <th>IL</th>\n",
       "      <td>12172.0</td>\n",
       "      <td>11520.0</td>\n",
       "    </tr>\n",
       "    <tr>\n",
       "      <th>IN</th>\n",
       "      <td>801.0</td>\n",
       "      <td>981.0</td>\n",
       "    </tr>\n",
       "    <tr>\n",
       "      <th>KS</th>\n",
       "      <td>265.0</td>\n",
       "      <td>383.0</td>\n",
       "    </tr>\n",
       "    <tr>\n",
       "      <th>KY</th>\n",
       "      <td>859.0</td>\n",
       "      <td>1049.0</td>\n",
       "    </tr>\n",
       "    <tr>\n",
       "      <th>LA</th>\n",
       "      <td>1473.0</td>\n",
       "      <td>1602.0</td>\n",
       "    </tr>\n",
       "    <tr>\n",
       "      <th>MA</th>\n",
       "      <td>1796.0</td>\n",
       "      <td>2300.0</td>\n",
       "    </tr>\n",
       "    <tr>\n",
       "      <th>MD</th>\n",
       "      <td>2426.0</td>\n",
       "      <td>1923.0</td>\n",
       "    </tr>\n",
       "    <tr>\n",
       "      <th>ME</th>\n",
       "      <td>146.0</td>\n",
       "      <td>192.0</td>\n",
       "    </tr>\n",
       "    <tr>\n",
       "      <th>MI</th>\n",
       "      <td>2301.0</td>\n",
       "      <td>2300.0</td>\n",
       "    </tr>\n",
       "    <tr>\n",
       "      <th>MN</th>\n",
       "      <td>2369.0</td>\n",
       "      <td>2433.0</td>\n",
       "    </tr>\n",
       "    <tr>\n",
       "      <th>MO</th>\n",
       "      <td>2627.0</td>\n",
       "      <td>2721.0</td>\n",
       "    </tr>\n",
       "    <tr>\n",
       "      <th>MS</th>\n",
       "      <td>254.0</td>\n",
       "      <td>317.0</td>\n",
       "    </tr>\n",
       "    <tr>\n",
       "      <th>MT</th>\n",
       "      <td>164.0</td>\n",
       "      <td>270.0</td>\n",
       "    </tr>\n",
       "    <tr>\n",
       "      <th>NC</th>\n",
       "      <td>3135.0</td>\n",
       "      <td>2957.0</td>\n",
       "    </tr>\n",
       "    <tr>\n",
       "      <th>ND</th>\n",
       "      <td>244.0</td>\n",
       "      <td>389.0</td>\n",
       "    </tr>\n",
       "    <tr>\n",
       "      <th>NE</th>\n",
       "      <td>523.0</td>\n",
       "      <td>670.0</td>\n",
       "    </tr>\n",
       "    <tr>\n",
       "      <th>NH</th>\n",
       "      <td>99.0</td>\n",
       "      <td>189.0</td>\n",
       "    </tr>\n",
       "    <tr>\n",
       "      <th>NJ</th>\n",
       "      <td>2954.0</td>\n",
       "      <td>3076.0</td>\n",
       "    </tr>\n",
       "    <tr>\n",
       "      <th>NM</th>\n",
       "      <td>744.0</td>\n",
       "      <td>845.0</td>\n",
       "    </tr>\n",
       "    <tr>\n",
       "      <th>NV</th>\n",
       "      <td>3990.0</td>\n",
       "      <td>3561.0</td>\n",
       "    </tr>\n",
       "    <tr>\n",
       "      <th>NY</th>\n",
       "      <td>4730.0</td>\n",
       "      <td>6266.0</td>\n",
       "    </tr>\n",
       "    <tr>\n",
       "      <th>OH</th>\n",
       "      <td>1594.0</td>\n",
       "      <td>2035.0</td>\n",
       "    </tr>\n",
       "    <tr>\n",
       "      <th>OK</th>\n",
       "      <td>877.0</td>\n",
       "      <td>1100.0</td>\n",
       "    </tr>\n",
       "    <tr>\n",
       "      <th>OR</th>\n",
       "      <td>1057.0</td>\n",
       "      <td>1406.0</td>\n",
       "    </tr>\n",
       "    <tr>\n",
       "      <th>PA</th>\n",
       "      <td>1998.0</td>\n",
       "      <td>2403.0</td>\n",
       "    </tr>\n",
       "    <tr>\n",
       "      <th>PR</th>\n",
       "      <td>434.0</td>\n",
       "      <td>568.0</td>\n",
       "    </tr>\n",
       "    <tr>\n",
       "      <th>RI</th>\n",
       "      <td>144.0</td>\n",
       "      <td>301.0</td>\n",
       "    </tr>\n",
       "    <tr>\n",
       "      <th>SC</th>\n",
       "      <td>638.0</td>\n",
       "      <td>731.0</td>\n",
       "    </tr>\n",
       "    <tr>\n",
       "      <th>SD</th>\n",
       "      <td>250.0</td>\n",
       "      <td>360.0</td>\n",
       "    </tr>\n",
       "    <tr>\n",
       "      <th>TN</th>\n",
       "      <td>1916.0</td>\n",
       "      <td>2084.0</td>\n",
       "    </tr>\n",
       "    <tr>\n",
       "      <th>TT</th>\n",
       "      <td>9.0</td>\n",
       "      <td>13.0</td>\n",
       "    </tr>\n",
       "    <tr>\n",
       "      <th>TX</th>\n",
       "      <td>19000.0</td>\n",
       "      <td>17832.0</td>\n",
       "    </tr>\n",
       "    <tr>\n",
       "      <th>UT</th>\n",
       "      <td>1304.0</td>\n",
       "      <td>1411.0</td>\n",
       "    </tr>\n",
       "    <tr>\n",
       "      <th>VA</th>\n",
       "      <td>3265.0</td>\n",
       "      <td>3661.0</td>\n",
       "    </tr>\n",
       "    <tr>\n",
       "      <th>VI</th>\n",
       "      <td>46.0</td>\n",
       "      <td>73.0</td>\n",
       "    </tr>\n",
       "    <tr>\n",
       "      <th>VT</th>\n",
       "      <td>108.0</td>\n",
       "      <td>153.0</td>\n",
       "    </tr>\n",
       "    <tr>\n",
       "      <th>WA</th>\n",
       "      <td>2007.0</td>\n",
       "      <td>2407.0</td>\n",
       "    </tr>\n",
       "    <tr>\n",
       "      <th>WI</th>\n",
       "      <td>1163.0</td>\n",
       "      <td>1546.0</td>\n",
       "    </tr>\n",
       "    <tr>\n",
       "      <th>WV</th>\n",
       "      <td>89.0</td>\n",
       "      <td>99.0</td>\n",
       "    </tr>\n",
       "    <tr>\n",
       "      <th>WY</th>\n",
       "      <td>123.0</td>\n",
       "      <td>188.0</td>\n",
       "    </tr>\n",
       "  </tbody>\n",
       "</table>\n",
       "</div>"
      ],
      "text/plain": [
       "    DEP_DEL15  ARR_DEL15\n",
       "AK      524.0      717.0\n",
       "AL      641.0      803.0\n",
       "AR      789.0      866.0\n",
       "AZ     3937.0     3571.0\n",
       "CA    15955.0    17677.0\n",
       "CO     6041.0     5357.0\n",
       "CT      293.0      526.0\n",
       "DE       19.0       30.0\n",
       "FL     7861.0     7533.0\n",
       "GA     7795.0     6560.0\n",
       "HI      496.0      734.0\n",
       "IA      418.0      595.0\n",
       "ID      218.0      328.0\n",
       "IL    12172.0    11520.0\n",
       "IN      801.0      981.0\n",
       "KS      265.0      383.0\n",
       "KY      859.0     1049.0\n",
       "LA     1473.0     1602.0\n",
       "MA     1796.0     2300.0\n",
       "MD     2426.0     1923.0\n",
       "ME      146.0      192.0\n",
       "MI     2301.0     2300.0\n",
       "MN     2369.0     2433.0\n",
       "MO     2627.0     2721.0\n",
       "MS      254.0      317.0\n",
       "MT      164.0      270.0\n",
       "NC     3135.0     2957.0\n",
       "ND      244.0      389.0\n",
       "NE      523.0      670.0\n",
       "NH       99.0      189.0\n",
       "NJ     2954.0     3076.0\n",
       "NM      744.0      845.0\n",
       "NV     3990.0     3561.0\n",
       "NY     4730.0     6266.0\n",
       "OH     1594.0     2035.0\n",
       "OK      877.0     1100.0\n",
       "OR     1057.0     1406.0\n",
       "PA     1998.0     2403.0\n",
       "PR      434.0      568.0\n",
       "RI      144.0      301.0\n",
       "SC      638.0      731.0\n",
       "SD      250.0      360.0\n",
       "TN     1916.0     2084.0\n",
       "TT        9.0       13.0\n",
       "TX    19000.0    17832.0\n",
       "UT     1304.0     1411.0\n",
       "VA     3265.0     3661.0\n",
       "VI       46.0       73.0\n",
       "VT      108.0      153.0\n",
       "WA     2007.0     2407.0\n",
       "WI     1163.0     1546.0\n",
       "WV       89.0       99.0\n",
       "WY      123.0      188.0"
      ]
     },
     "execution_count": 37,
     "metadata": {},
     "output_type": "execute_result"
    }
   ],
   "source": [
    "# 将机场起飞延迟和到达延迟和并\n",
    "df = pd.DataFrame([origin_delay_count, arr_delay_count]).T\n",
    "df"
   ]
  },
  {
   "cell_type": "code",
   "execution_count": 39,
   "metadata": {
    "pycharm": {
     "name": "#%%\n"
    }
   },
   "outputs": [
    {
     "data": {
      "text/plain": [
       "<AxesSubplot:title={'center':'起飞到达延迟状况'}>"
      ]
     },
     "execution_count": 39,
     "metadata": {},
     "output_type": "execute_result"
    },
    {
     "data": {
      "image/png": "[encoded data removed]",
      "text/plain": [
       "<Figure size 864x576 with 1 Axes>"
      ]
     },
     "metadata": {
      "needs_background": "light"
     },
     "output_type": "display_data"
    }
   ],
   "source": [
    "# 修改列名称\n",
    "df.columns = ['起飞延迟数', '到达延迟数']\n",
    "df.sort_values(by='起飞延迟数', ascending=False).plot(kind='bar',figsize=(12, 8), title='起飞到达延迟状况')"
   ]
  },
  {
   "cell_type": "markdown",
   "metadata": {
    "pycharm": {
     "name": "#%% md\n"
    }
   },
   "source": [
    "机场起飞延迟百分比"
   ]
  },
  {
   "cell_type": "code",
   "execution_count": 42,
   "metadata": {
    "pycharm": {
     "name": "#%%\n"
    }
   },
   "outputs": [],
   "source": [
    "# 机场起飞延迟百分比 = 机场起飞延迟数/机场总航班数\n",
    "# 机场起飞延迟数   origin_delay_count\n",
    "# 机场总航班数\n",
    "origin_data = data[['ORIGIN_STATE_ABR', 'DEP_DEL15']].dropna()\n",
    "origin_count = orgin_data['ORIGIN_STATE_ABR'].value_counts()\n",
    "# 机场起飞延迟百分比\n",
    "orgin_pct = origin_delay_count/origin_count"
   ]
  },
  {
   "cell_type": "code",
   "execution_count": 43,
   "metadata": {
    "pycharm": {
     "name": "#%%\n"
    }
   },
   "outputs": [
    {
     "data": {
      "text/plain": [
       "AK    0.184248\n",
       "AL    0.317484\n",
       "AR    0.373226\n",
       "AZ    0.326316\n",
       "CA    0.333466\n",
       "CO    0.327390\n",
       "CT    0.209136\n",
       "DE    0.250000\n",
       "FL    0.306233\n",
       "GA    0.333633\n",
       "HI    0.116268\n",
       "IA    0.289073\n",
       "ID    0.204887\n",
       "IL    0.417507\n",
       "IN    0.286686\n",
       "KS    0.289934\n",
       "KY    0.297954\n",
       "LA    0.325022\n",
       "MA    0.273906\n",
       "MD    0.374672\n",
       "ME    0.267399\n",
       "MI    0.265398\n",
       "MN    0.285387\n",
       "MO    0.337661\n",
       "MS    0.314746\n",
       "MT    0.140051\n",
       "NC    0.308108\n",
       "ND    0.231719\n",
       "NE    0.308737\n",
       "NH    0.227064\n",
       "NJ    0.376786\n",
       "NM    0.338336\n",
       "NV    0.382294\n",
       "NY    0.294943\n",
       "OH    0.288350\n",
       "OK    0.311878\n",
       "OR    0.238654\n",
       "PA    0.280264\n",
       "PR    0.230851\n",
       "RI    0.201117\n",
       "SC    0.322222\n",
       "SD    0.271739\n",
       "TN    0.328476\n",
       "TT    0.219512\n",
       "TX    0.380510\n",
       "UT    0.184051\n",
       "VA    0.312112\n",
       "VI    0.124324\n",
       "VT    0.327273\n",
       "WA    0.235868\n",
       "WI    0.290823\n",
       "WV    0.347656\n",
       "WY    0.160784\n",
       "dtype: float64"
      ]
     },
     "execution_count": 43,
     "metadata": {},
     "output_type": "execute_result"
    }
   ],
   "source": [
    "orgin_pct"
   ]
  },
  {
   "cell_type": "code",
   "execution_count": 46,
   "metadata": {
    "pycharm": {
     "name": "#%%\n"
    }
   },
   "outputs": [
    {
     "data": {
      "text/plain": [
       "AK    0.228854\n",
       "AL    0.381654\n",
       "AR    0.407913\n",
       "AZ    0.302576\n",
       "CA    0.357776\n",
       "CO    0.302963\n",
       "CT    0.338918\n",
       "DE    0.400000\n",
       "FL    0.291435\n",
       "GA    0.303072\n",
       "HI    0.163220\n",
       "IA    0.418425\n",
       "ID    0.272199\n",
       "IL    0.419458\n",
       "IN    0.340507\n",
       "KS    0.401889\n",
       "KY    0.359001\n",
       "LA    0.350087\n",
       "MA    0.336602\n",
       "MD    0.313396\n",
       "ME    0.330465\n",
       "MI    0.268817\n",
       "MN    0.301524\n",
       "MO    0.344954\n",
       "MS    0.370327\n",
       "MT    0.199409\n",
       "NC    0.311953\n",
       "ND    0.335634\n",
       "NE    0.385279\n",
       "NH    0.375000\n",
       "NJ    0.395271\n",
       "NM    0.375556\n",
       "NV    0.338530\n",
       "NY    0.371473\n",
       "OH    0.358970\n",
       "OK    0.372629\n",
       "OR    0.292490\n",
       "PA    0.336979\n",
       "PR    0.276938\n",
       "RI    0.355372\n",
       "SC    0.359390\n",
       "SD    0.387513\n",
       "TN    0.352444\n",
       "TT    0.317073\n",
       "TX    0.376671\n",
       "UT    0.200255\n",
       "VA    0.348567\n",
       "VI    0.194149\n",
       "VT    0.409091\n",
       "WA    0.276635\n",
       "WI    0.371367\n",
       "WV    0.396000\n",
       "WY    0.229548\n",
       "dtype: float64"
      ]
     },
     "execution_count": 46,
     "metadata": {},
     "output_type": "execute_result"
    }
   ],
   "source": [
    "# 机场到达延迟所占百分比 = 机场到达延迟数/到达机场总航班数\n",
    "# 机场到达延迟数\n",
    "# arr_delay_count\n",
    "# 到达机场总航班数\n",
    "arr_data = data[['DEST_STATE_ABR', 'ARR_DEL15']].dropna()\n",
    "arr_count = arr_data['DEST_STATE_ABR'].value_counts()\n",
    "arr_pct = arr_delay_count/arr_count\n",
    "arr_pct"
   ]
  },
  {
   "cell_type": "code",
   "execution_count": 51,
   "metadata": {
    "pycharm": {
     "name": "#%%\n"
    }
   },
   "outputs": [],
   "source": [
    "# 合并起飞延迟百分比   到达延迟百分比\n",
    "df = pd.DataFrame([orgin_pct, arr_pct]).T"
   ]
  },
  {
   "cell_type": "code",
   "execution_count": 52,
   "metadata": {
    "pycharm": {
     "name": "#%%\n"
    }
   },
   "outputs": [],
   "source": [
    "df.columns = ['起飞延迟百分比', '到达延迟百分比']"
   ]
  },
  {
   "cell_type": "code",
   "execution_count": 53,
   "metadata": {
    "pycharm": {
     "name": "#%%\n"
    }
   },
   "outputs": [
    {
     "data": {
      "text/plain": [
       "<AxesSubplot:title={'center':'机场起飞，到达延迟所占百分比'}>"
      ]
     },
     "execution_count": 53,
     "metadata": {},
     "output_type": "execute_result"
    },
    {
     "data": {
      "image/png": "[encoded data removed]",
      "text/plain": [
       "<Figure size 864x576 with 1 Axes>"
      ]
     },
     "metadata": {
      "needs_background": "light"
     },
     "output_type": "display_data"
    }
   ],
   "source": [
    "df.sort_values(by='起飞延迟百分比', ascending=False).plot(kind='bar', title='机场起飞，到达延迟所占百分比', figsize=(12, 8))"
   ]
  },
  {
   "cell_type": "code",
   "execution_count": null,
   "metadata": {
    "pycharm": {
     "name": "#%%\n"
    }
   },
   "outputs": [],
   "source": []
  }
 ],
 "metadata": {
  "kernelspec": {
   "display_name": "Python 3 (ipykernel)",
   "language": "python",
   "name": "python3"
  },
  "language_info": {
   "codemirror_mode": {
    "name": "ipython",
    "version": 3
   },
   "file_extension": ".py",
   "mimetype": "text/x-python",
   "name": "python",
   "nbconvert_exporter": "python",
   "pygments_lexer": "ipython3",
   "version": "3.9.7"
  }
 },
 "nbformat": 4,
 "nbformat_minor": 1
}
